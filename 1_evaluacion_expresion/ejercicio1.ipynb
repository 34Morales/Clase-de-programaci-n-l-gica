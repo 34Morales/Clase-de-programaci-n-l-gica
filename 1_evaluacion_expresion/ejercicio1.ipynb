{
 "cells": [
  {
   "cell_type": "markdown",
   "metadata": {},
   "source": [
    "# Ejercio 1\n",
    "Ejercicio 1 de evaluación de expresiones en Python\n",
    "\n",
    "$\\frac {\\pi^ 2}{6} = \\sum_{n=1}^{\\infty} \\frac{1}{n^2}$"
   ]
  },
  {
   "cell_type": "code",
   "execution_count": 2,
   "metadata": {},
   "outputs": [
    {
     "name": "stdout",
     "output_type": "stream",
     "text": [
      "Valor teórico: 1.6449340668482264, Aproximación: 1.5936632439130234\n",
      "Error: 0.05127082293520302\n"
     ]
    }
   ],
   "source": [
    "import math\n",
    "res = math.pi**2 / 6 \n",
    "res2 = 0\n",
    "for n in range(1, 20):\n",
    "    res2+=1/ (n**2)\n",
    "\n",
    "print(f\"Valor teórico: {res}, Aproximación: {res2}\")\n",
    "error= abs(res-res2)\n",
    "print(f\"Error: {error}\")"
   ]
  },
  {
   "cell_type": "markdown",
   "metadata": {},
   "source": [
    "## Ejemplo 1  \n",
    "Primero se ejecuta la potencia: 2**2 = 4    \n",
    "Segundo seguimos con la multiplicación: 4 * 4 = 16  \n",
    "Tercero se hace la multiplicación: 3 + 16"
   ]
  },
  {
   "cell_type": "code",
   "execution_count": 29,
   "metadata": {},
   "outputs": [
    {
     "name": "stdout",
     "output_type": "stream",
     "text": [
      "19\n"
     ]
    }
   ],
   "source": [
    "import math    \n",
    "# Expresión\n",
    "resultado = 3 + 4 * 2 ** 2\n",
    "print(resultado)\n",
    "#¿Cuál crees que es el resultado?       "
   ]
  },
  {
   "cell_type": "markdown",
   "metadata": {},
   "source": [
    "### Expresión 1 =  (3+2)*4\n",
    "\n",
    "1- Primero se resuelve el paréntesis (3+2) = 5  \n",
    "2- Luego la multiplicación 5 * 4    \n",
    "3- Da de resultado 20"
   ]
  },
  {
   "cell_type": "code",
   "execution_count": 17,
   "metadata": {},
   "outputs": [
    {
     "name": "stdout",
     "output_type": "stream",
     "text": [
      "El resultado de la primera expresión es: 20\n"
     ]
    }
   ],
   "source": [
    "# Expresión 1 \n",
    "r1 = (3 + 2)    \n",
    "r1f = r1 * 4\n",
    "print(f\"El resultado de la primera expresión es: {r1f}\")"
   ]
  },
  {
   "cell_type": "markdown",
   "metadata": {},
   "source": [
    "### Expresión 2 =  2 * 3 ** 2        \n",
    "\n",
    "1- Primero va la potencia: 3 ^ 2 = 9    \n",
    "2- Segundo va la multiplicación: 2 * 9  \n",
    "3- El resultado es: 18 "
   ]
  },
  {
   "cell_type": "code",
   "execution_count": 16,
   "metadata": {},
   "outputs": [
    {
     "name": "stdout",
     "output_type": "stream",
     "text": [
      "El resultado de la segunda expresión es: 18\n"
     ]
    }
   ],
   "source": [
    "r2= 3 ** 2      \n",
    "r2f = 2 * r2\n",
    "print(f\"El resultado de la segunda expresión es: {r2f}\") "
   ]
  },
  {
   "cell_type": "markdown",
   "metadata": {},
   "source": [
    "### Expresión 3 = 10 // 3 + 2    \n",
    "\n",
    "1- Primero va la  división entera: 10//3 = 3    \n",
    "2- Despues sigue la suma: 3 + 2     \n",
    "3- Obteniendo como resultado: 5"
   ]
  },
  {
   "cell_type": "code",
   "execution_count": 15,
   "metadata": {},
   "outputs": [
    {
     "name": "stdout",
     "output_type": "stream",
     "text": [
      "El resultado de la tercera expresión es: 5\n"
     ]
    }
   ],
   "source": [
    "r3= 10 // 3     \n",
    "r3f= r3 +2\n",
    "print(f\"El resultado de la tercera expresión es: {r3f}\") "
   ]
  },
  {
   "cell_type": "markdown",
   "metadata": {},
   "source": [
    "### Expresión 4 = 17 % 5 * 2     \n",
    "\n",
    "1- Primero el porcentaje (módulo): 17 % 5 = 2   \n",
    "2- Siguiente la multiplicación: 2 * 2   \n",
    "3- El resultado final es: 4"
   ]
  },
  {
   "cell_type": "code",
   "execution_count": 18,
   "metadata": {},
   "outputs": [
    {
     "name": "stdout",
     "output_type": "stream",
     "text": [
      "El resultado de la cuarta expresión es: 4\n"
     ]
    }
   ],
   "source": [
    "r4= 17 % 5  \n",
    "r4f= r4 * 2                                         \n",
    "print(f\"El resultado de la cuarta expresión es: {r4f}\")"
   ]
  },
  {
   "cell_type": "markdown",
   "metadata": {},
   "source": [
    "### Expresión 5 = -2 ** 2    \n",
    "\n",
    "1- En este solo se eleva el -2 al cuadrado: -2 ^ 2  \n",
    "2- Obteniendo como resultado: -4"
   ]
  },
  {
   "cell_type": "code",
   "execution_count": 19,
   "metadata": {},
   "outputs": [
    {
     "name": "stdout",
     "output_type": "stream",
     "text": [
      "El resultado de la quinta expresión es: -4\n"
     ]
    }
   ],
   "source": [
    "r5 = -2 ** 2    \n",
    "print(f\"El resultado de la quinta expresión es: {r5}\")"
   ]
  },
  {
   "cell_type": "markdown",
   "metadata": {},
   "source": [
    "### Expresión 6 = 3 + 4 * 2 ^ 2 // 3    \n",
    "\n",
    "1- Empezamos con la potencia: 2 ^ 2 = 4     \n",
    "2- Seguimos con la multiplicación: 4 * 4 = 16       \n",
    "3- Continuamos con la división: 16 // 3 = 5     \n",
    "4- Ahora va la suma: 3 + 5  \n",
    "5- Dandonos como resultado: 8"
   ]
  },
  {
   "cell_type": "code",
   "execution_count": 23,
   "metadata": {},
   "outputs": [
    {
     "name": "stdout",
     "output_type": "stream",
     "text": [
      "El resultado de la sexta expresión es: 8\n"
     ]
    }
   ],
   "source": [
    "r6 =  2 ** 2    \n",
    "r6t= 4 * r6     \n",
    "r6y= r6t // 3                      \n",
    "r6f= 3 + r6y            \n",
    "print(f\"El resultado de la sexta expresión es: {r6f}\")"
   ]
  },
  {
   "cell_type": "markdown",
   "metadata": {},
   "source": [
    "### Expresión 7 = 3 < 4 < 5      \n",
    "\n",
    "1- Esta es una comparación en cadena empezamos con 3 < 4 que es true    \n",
    "2- Seguimos con 4 < 5 que es true   \n",
    "3- Obteniendo que la expresión completa es true "
   ]
  },
  {
   "cell_type": "code",
   "execution_count": 24,
   "metadata": {},
   "outputs": [
    {
     "name": "stdout",
     "output_type": "stream",
     "text": [
      "El resultado de la septima expresión es: True\n"
     ]
    }
   ],
   "source": [
    "r7= 3 < 4 < 5   \n",
    "print(f\"El resultado de la septima expresión es: {r7}\")"
   ]
  },
  {
   "cell_type": "markdown",
   "metadata": {},
   "source": [
    "### Expresión 8 = (3 > 2) and (5 < 10) or False \n",
    "\n",
    "1- Empezamos con la primera parte que es la comparación  (3 > 2)  que da de resultado true  \n",
    "2- Seguimos con la siguiente comparación y el and se evalua antes que el or (5 < 10) dandonos de resultado true     \n",
    "3- Por lo tanto el resultado final es true"
   ]
  },
  {
   "cell_type": "code",
   "execution_count": 25,
   "metadata": {},
   "outputs": [
    {
     "name": "stdout",
     "output_type": "stream",
     "text": [
      "El resultado de la septima expresión es: True\n"
     ]
    }
   ],
   "source": [
    "r7= 3 < 4 < 5   \n",
    "print(f\"El resultado de la septima expresión es: {r7}\")"
   ]
  },
  {
   "cell_type": "markdown",
   "metadata": {},
   "source": [
    "### Expresión 9 = 5 & 3 + 1         \n",
    "\n",
    "1-  Primero empezamos con la suma: 3 + 1 = 4    \n",
    "2- Despues seguimos con el and de bit a bit 5 & 4, 5 en binario = 101 y 4 en binario es = 100   \n",
    "3- 101 & 100 = 100, lo que seria 4 en decimal "
   ]
  },
  {
   "cell_type": "code",
   "execution_count": 26,
   "metadata": {},
   "outputs": [
    {
     "name": "stdout",
     "output_type": "stream",
     "text": [
      "El resultado de la novena expresión es: 4\n"
     ]
    }
   ],
   "source": [
    "r9= 5 & 3 + 1                     \n",
    "print(f\"El resultado de la novena expresión es: {r9}\") "
   ]
  },
  {
   "cell_type": "markdown",
   "metadata": {},
   "source": [
    "### Expresión 10 = (2 + 3) * 4 ^ 2 // (5 % 3) and not False                                \n",
    "\n",
    "1-  Empezamos con la primer suma: (2+3) = 5     \n",
    "2- Continuamos con la potencia: 4 ^ 2 = 16      \n",
    "3- Seguimos con el porcentaje (módulo): (5 % 3) = 2     \n",
    "4- Luego vamos con la multiplicación: 5 * 16 = 80       \n",
    "5- Ya con la división: 80 // 2 = 40     \n",
    "6- Ya por ultimo: 40 and not False → 40 and True → True\n"
   ]
  },
  {
   "cell_type": "code",
   "execution_count": 27,
   "metadata": {},
   "outputs": [
    {
     "name": "stdout",
     "output_type": "stream",
     "text": [
      "El resultado de la decima expresión es: True\n"
     ]
    }
   ],
   "source": [
    "r10= (2 + 3) * 4 ** 2 // (5 % 3) and not False          \n",
    "print(f\"El resultado de la decima expresión es: {r10}\")"
   ]
  },
  {
   "cell_type": "markdown",
   "metadata": {},
   "source": [
    "### Expresión 11 = ((65 & 66) > 70 ) and not (65 ^ 66) == 0     \n",
    "\n",
    "1- Empezamos con el 65 & 66, 65 en binario = 01000001, 66 en binario = 01000010 and = 01000000 (en decimal 64).  \n",
    "2- Luego seguimos con la comparación  de 64 > 70 lo cual da a false luego seguimos con el not de (65 ^ 66) == 0 lo cual nos da not false, en otras palabras es true.    \n",
    "3-  Por ultimo tenemos False and true lo que nos da de resultado false."
   ]
  },
  {
   "cell_type": "code",
   "execution_count": 28,
   "metadata": {},
   "outputs": [
    {
     "name": "stdout",
     "output_type": "stream",
     "text": [
      "El resultado de la onceava expresión es: False\n"
     ]
    }
   ],
   "source": [
    "r11= ((65 & 66) > 70 ) and not (65 ^ 66) == 0       \n",
    "print(f\"El resultado de la onceava expresión es: {r11}\")"
   ]
  }
 ],
 "metadata": {
  "kernelspec": {
   "display_name": "Python 3",
   "language": "python",
   "name": "python3"
  },
  "language_info": {
   "codemirror_mode": {
    "name": "ipython",
    "version": 3
   },
   "file_extension": ".py",
   "mimetype": "text/x-python",
   "name": "python",
   "nbconvert_exporter": "python",
   "pygments_lexer": "ipython3",
   "version": "3.11.9"
  }
 },
 "nbformat": 4,
 "nbformat_minor": 2
}
